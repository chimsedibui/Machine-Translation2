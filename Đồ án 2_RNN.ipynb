{
 "cells": [
  {
   "cell_type": "markdown",
   "metadata": {},
   "source": [
    "# Tiền xử lý dữ liệu, xây dựng Loader"
   ]
  },
  {
   "cell_type": "code",
   "execution_count": 270,
   "metadata": {},
   "outputs": [],
   "source": [
    "import torch \n",
    "\n",
    "import os\n",
    "import re\n",
    "import numpy as np\n",
    "import pandas as pd"
   ]
  },
  {
   "cell_type": "markdown",
   "metadata": {},
   "source": [
    "## **Phần xác định các cụm viết tắt**"
   ]
  },
  {
   "cell_type": "code",
   "execution_count": 271,
   "metadata": {},
   "outputs": [],
   "source": [
    "CONTRACTIONS = {\n",
    "    \"aren't\": \"are not\",\n",
    "    \"can't\": \"can not\",\n",
    "    \"couldn't\": \"could not\",\n",
    "    \"didn't\": \"did not\",\n",
    "    \"doesn't\": \"does not\",\n",
    "    \"don't\": \"do not\",\n",
    "    \"hadn't\": \"had not\",\n",
    "    \"hasn't\": \"has not\",\n",
    "    \"haven't\": \"have not\",\n",
    "    \"he'd\": \"he would\",\n",
    "    \"he'll\": \"he will\",\n",
    "    \"he's\": \"he is\",\n",
    "    \"she's\":\"she is\",\n",
    "    \"she'll\": \"she will\",\n",
    "    \"she'd\": \"she would\",\n",
    "    \"i'd\": \"I would\",\n",
    "    \"i'll\": \"I will\",\n",
    "    \"i'm\": \"I am\",\n",
    "    \"i've\": \"I have\",\n",
    "    \"isn't\": \"is not\",\n",
    "    \"it's\": \"it is\",\n",
    "    \"let's\": \"let us\",\n",
    "    \"shouldn't\": \"should not\",\n",
    "    \"that's\": \"that is\",\n",
    "    \"there's\": \"there is\",\n",
    "    \"there're\": \"there are\",\n",
    "    \"they'd\": \"they would\",\n",
    "    \"they'll\": \"they will\",\n",
    "    \"they're\": \"they are\",\n",
    "    \"they've\": \"they have\",\n",
    "    \"we'd\": \"we would\",\n",
    "    \"we'll\":\"we will\",\n",
    "    \"we're\": \"we are\",\n",
    "    \"we've\": \"we have\",\n",
    "    \"weren't\": \"were not\",\n",
    "    \"what'll\": \"what will\",\n",
    "    \"what're\": \"what are\",\n",
    "    \"what's\": \"what is\",\n",
    "    \"where's\": \"where is\",\n",
    "    \"why's\": \"why is\",\n",
    "    \"what've\": \"what have\",\n",
    "    \"where's\": \"where is\",\n",
    "    \"who'd\": \"who would\",\n",
    "    \"who'll\": \"who will\",\n",
    "    \"who're\": \"who are\",\n",
    "    \"who's\": \"who is\",\n",
    "    \"who've\": \"who have\",\n",
    "    \"won't\": \"will not\",\n",
    "    \"wouldn't\": \"would not\",\n",
    "    \"you'd\": \"you would\",\n",
    "    \"you'll\": \"you will\",\n",
    "    \"you're\": \"you are\",\n",
    "    \"you've\": \"you have\",\n",
    "    \"wasn't\":\"was not\",\n",
    "    \"it'll\":\"it will\",\n",
    "    \"tom's\":\"tom is\", \n",
    "    \"one's\":\"one is\",\n",
    "    \"somebody's\": \"sombody is\",\n",
    "    \"someone's\": \"someone is\",\n",
    "    \"that's\": \"that is\",\n",
    "    \"how's\": \"how is\",\n",
    "    \"should've\": \"should have\",\n",
    "    \"why're\": \"why are\",\n",
    "    \"might've\": \"might have\",\n",
    "    \"o'clock\": \"of the clock\",\n",
    "    \"here's\": 'here is',\n",
    "    \"could've\": \"could have\",\n",
    "    \"must've\": \"must have\",\n",
    "    \"would've\": \"would have\",\n",
    "    \"that'll\": \"that will\"\n",
    "}"
   ]
  },
  {
   "cell_type": "markdown",
   "metadata": {},
   "source": [
    "## **Hàm chuẩn hóa các dấu câu, viết tắt, viết hoa**\n",
    "\n",
    "**Thực hiện kèm Tokenizer bằng torchtext**"
   ]
  },
  {
   "cell_type": "markdown",
   "metadata": {},
   "source": [
    "*Chuẩn hóa tiếng Anh*"
   ]
  },
  {
   "cell_type": "code",
   "execution_count": 272,
   "metadata": {},
   "outputs": [],
   "source": [
    "file_path = r\"E:\\Đồ án 2\\vie-eng\\vie.txt\"\n",
    "\n",
    "def expand_match(contraction, contractions_dict= CONTRACTIONS):\n",
    "    match = contraction.group(0)\n",
    "    first_char = match[0]\n",
    "    expanded = contractions_dict.get(match.lower())\n",
    "    if expanded:\n",
    "        if first_char.isupper():\n",
    "            expanded = expanded[0].upper() + expanded[1:]\n",
    "        return expanded\n",
    "    return match\n",
    "\n",
    "def replace_time(match):\n",
    "        hours = match.group('hours')\n",
    "        minutes = match.group('minutes')\n",
    "        \n",
    "        components = []\n",
    "        \n",
    "        if hours:\n",
    "            hours = int(hours)\n",
    "            hour_word = \"hour\" if hours == 1 else \"hours\"\n",
    "            components.append(f\"{hours} {hour_word}\")\n",
    "        \n",
    "        if minutes:\n",
    "            minutes = int(minutes)\n",
    "            # Chuẩn hóa số phút\n",
    "            if minutes < 10 and ':' in match.group():\n",
    "                minutes = minutes * 10\n",
    "            minute_word = \"minute\" if minutes == 1 else \"minutes\"\n",
    "            components.append(f\"{minutes} {minute_word}\")\n",
    "        \n",
    "        return \" \".join(components)\n",
    "\n",
    "def text_normalize(file_path, contractions_dict= CONTRACTIONS):\n",
    "    src_data = pd.read_csv(file_path, delimiter=\"\\t\", header= None)\n",
    "    src_data.columns = ['src', 'tgt', 'ref']\n",
    "    src_data = src_data.drop(columns=['ref'])\n",
    "\n",
    "    normal_data = {}\n",
    "    normal_data['src'] = []\n",
    "    for row in src_data['src']:\n",
    "    #Xóa dấu . cuối câu\n",
    "        sentence = re.sub(r'\\.$', '', row.strip())\n",
    "        #Xóa khoảng trắng thừa\n",
    "        sentence = re.sub(r'\\s*,\\s*', ', ', sentence)\n",
    "        #Xóa dấu phẩy thừa\n",
    "        sentence = re.sub(r',+', ',', sentence)\n",
    "        #Tách dấu câu còn lại để lấy ngữ cảnh\n",
    "        sentence = re.sub(r'([.!?])', r' \\1', sentence)\n",
    "\n",
    "        # Thực hiện thay thế viết tắt trong text\n",
    "        pattern = re.compile(r'\\b(' + '|'.join(contractions_dict.keys()) + r')\\b', re.IGNORECASE)    \n",
    "        sentence = pattern.sub(expand_match, sentence)\n",
    "        \n",
    "        patterns = [\n",
    "        # h:m hoặc h:mm\n",
    "        r'(?P<hours>\\d{1,2}):(?P<minutes>\\d{1,2})',\n",
    "        # Các định dạng khác\n",
    "        r'(?P<hours>\\d+)\\s*h(?:\\s*(?P<minutes>\\d+)\\s*m)?'\n",
    "        ]\n",
    "        for part in patterns:\n",
    "            sentence = re.sub(part, replace_time, sentence, flags=re.IGNORECASE)\n",
    "        #Xóa dấu \" thừa ra\n",
    "        sentence = re.sub(r\"'\", '', sentence)\n",
    "        sentence = sentence.strip(r'\"')\n",
    "        sentence = sentence.strip(r\"'\")\n",
    "\n",
    "        #sentence = tokenizer(sentence)\n",
    "        normal_data['src'].append(sentence)\n",
    "    \n",
    "    normal_data['tgt'] = []\n",
    "    for row in src_data['tgt']:\n",
    "    #Xóa dấu . cuối câu\n",
    "        sentence = re.sub(r'\\.$', '', row.strip())\n",
    "        #Xóa khoảng trắng thừa\n",
    "        sentence = re.sub(r'\\s*,\\s*', ', ', sentence)\n",
    "        #Xóa dấu phẩy thừa\n",
    "        sentence = re.sub(r',+', ',', sentence)\n",
    "        #Tách dấu câu còn lại để lấy ngữ cảnh\n",
    "        sentence = re.sub(r'([.!?])', r' \\1', sentence)\n",
    "        # Thực hiện thay thế trong text\n",
    "        pattern = re.compile(r'\\b(' + '|'.join(contractions_dict.keys()) + r')\\b', re.IGNORECASE)    \n",
    "        sentence = pattern.sub(expand_match, sentence)\n",
    "        \n",
    "        patterns = [\n",
    "        # h:m hoặc h:mm\n",
    "        r'(?P<hours>\\d{1,2}):(?P<minutes>\\d{1,2})',\n",
    "        \n",
    "        # Các định dạng khác\n",
    "        r'(?P<hours>\\d+)\\s*h(?:\\s*(?P<minutes>\\d+)\\s*m)?',\n",
    "        ]\n",
    "        for part in patterns:\n",
    "            sentence = re.sub(part, replace_time, sentence, flags=re.IGNORECASE)\n",
    "        #Xóa dấu \" thừa ra\n",
    "        sentence = re.sub(r\"'\", '', sentence)\n",
    "        sentence = sentence.strip(r'\"')\n",
    "        sentence = sentence.strip(r\"'\")\n",
    "        #sentence = tokenizer(sentence)\n",
    "        normal_data['tgt'].append(sentence)\n",
    "\n",
    "    \n",
    "    return normal_data\n",
    "\n",
    "normalized_data = text_normalize(file_path)\n"
   ]
  },
  {
   "cell_type": "markdown",
   "metadata": {},
   "source": [
    "## **Thực hiện tạo vocab để vectorize các câu đầu vào En**"
   ]
  },
  {
   "cell_type": "code",
   "execution_count": 273,
   "metadata": {},
   "outputs": [],
   "source": [
    "from torchtext.vocab import build_vocab_from_iterator\n",
    "from torchtext.data.utils import get_tokenizer\n",
    "src_tokenizer = get_tokenizer(\"basic_english\")\n",
    "tgt_tokenizer = get_tokenizer(\"basic_english\")"
   ]
  },
  {
   "cell_type": "markdown",
   "metadata": {},
   "source": [
    "*Xử lý tạo vocab*"
   ]
  },
  {
   "cell_type": "code",
   "execution_count": 274,
   "metadata": {},
   "outputs": [],
   "source": [
    "def yield_src_tokens(dataset):\n",
    "    for row in dataset:\n",
    "        yield src_tokenizer(row)\n",
    "\n",
    "def yield_tgt_tokens(dataset):\n",
    "    for row in dataset:\n",
    "        yield tgt_tokenizer(row)\n",
    "\n",
    "def buildVocab(yield_src_tokens, yeild_tgt_tokens):\n",
    "    src_vocab = build_vocab_from_iterator(\n",
    "        yield_src_tokens(normalized_data['src']), \n",
    "        specials=['<unk>', '<pad>', '<sos>', '<eos>'], \n",
    "        max_tokens= 1000, \n",
    "        min_freq= 2)\n",
    "    src_vocab.set_default_index(src_vocab['<unk>'])\n",
    "\n",
    "    tgt_vocab = build_vocab_from_iterator(\n",
    "        yield_tgt_tokens(normalized_data['tgt']),\n",
    "        specials=['<unk>', '<pad>', '<sos>', '<eos>'],\n",
    "        max_tokens= 1000, \n",
    "        min_freq= 2)\n",
    "    tgt_vocab.set_default_index(tgt_vocab['<unk>'])\n",
    "\n",
    "    return src_vocab, tgt_vocab\n",
    "\n",
    "src_vocab, tgt_vocab = buildVocab(yield_src_tokens, yield_tgt_tokens)"
   ]
  },
  {
   "cell_type": "markdown",
   "metadata": {},
   "source": [
    "**Token to index**, **Index to token**"
   ]
  },
  {
   "cell_type": "code",
   "execution_count": 275,
   "metadata": {},
   "outputs": [],
   "source": [
    "src_token_to_idx = {token : idx for token, idx in enumerate(src_vocab.get_itos())}\n",
    "src_idx_to_token = {idx : token for token, idx in enumerate(src_vocab.get_itos())}\n",
    "\n",
    "tgt_token_to_idx = {token : idx for token, idx in enumerate(tgt_vocab.get_itos())}\n",
    "tgt_idx_to_token = {idx : token for token, idx in enumerate(tgt_vocab.get_itos())}"
   ]
  },
  {
   "cell_type": "markdown",
   "metadata": {},
   "source": [
    "## **Số hóa các vector đầu vào**"
   ]
  },
  {
   "cell_type": "code",
   "execution_count": 276,
   "metadata": {},
   "outputs": [],
   "source": [
    "from torch.utils.data import DataLoader, Dataset\n",
    "from torchtext import transforms as T"
   ]
  },
  {
   "cell_type": "markdown",
   "metadata": {},
   "source": [
    "*Hàm tạo các chuyển đổi cho câu*"
   ]
  },
  {
   "cell_type": "code",
   "execution_count": 277,
   "metadata": {},
   "outputs": [],
   "source": [
    "def getTransform(vocab):\n",
    "    \"\"\"\n",
    "    Create the transform functions for the senquence.\n",
    "    \"\"\"\n",
    "    text_transform = T.Sequential(\n",
    "        T.VocabTransform(vocab),\n",
    "        T.AddToken(2, True),\n",
    "        T.AddToken(3, False)\n",
    "    )\n",
    "    return text_transform\n"
   ]
  },
  {
   "cell_type": "markdown",
   "metadata": {},
   "source": [
    "*Số hóa sequence*"
   ]
  },
  {
   "cell_type": "code",
   "execution_count": 278,
   "metadata": {},
   "outputs": [],
   "source": [
    "def tokenize_dataset(normalized_data):\n",
    "    tokenized_data = {}\n",
    "    for column in normalized_data:\n",
    "        tokenized_data[column] = []\n",
    "        if column== 'src':\n",
    "            for row in normalized_data[column]:\n",
    "                tokenized_data[column].append(src_tokenizer(row))\n",
    "        if column== 'tgt':\n",
    "            for row in normalized_data[column]:\n",
    "                tokenized_data[column].append(tgt_tokenizer(row))\n",
    "\n",
    "\n",
    "    return tokenized_data\n",
    "\n",
    "tokenized_data = tokenize_dataset(normalized_data)"
   ]
  },
  {
   "cell_type": "markdown",
   "metadata": {},
   "source": [
    "*Chuyển đổi*"
   ]
  },
  {
   "cell_type": "code",
   "execution_count": 279,
   "metadata": {},
   "outputs": [],
   "source": [
    "def transform_dataset(tokenized_data):\n",
    "    transformed_data = {}\n",
    "    \n",
    "    for column in tokenized_data:\n",
    "        if column== 'src':\n",
    "            transformed_data[column] = getTransform(vocab= src_vocab)(tokenized_data['src'])\n",
    "        if column== 'tgt':\n",
    "            transformed_data[column] = getTransform(vocab= tgt_vocab)(tokenized_data['tgt'])\n",
    "\n",
    "    return transformed_data\n",
    "\n",
    "transformed_data = transform_dataset(tokenized_data)\n",
    "transformed_data = pd.DataFrame(transformed_data)"
   ]
  },
  {
   "cell_type": "markdown",
   "metadata": {},
   "source": [
    "## **Tách train, valid, test**"
   ]
  },
  {
   "cell_type": "code",
   "execution_count": 280,
   "metadata": {},
   "outputs": [],
   "source": [
    "from sklearn.model_selection import train_test_split\n",
    "\n",
    "val_ratio = 0.2\n",
    "test_ratio = 0.125\n",
    "isShuffle = True\n",
    "\n",
    "train_data, val_data = train_test_split(\n",
    "    transformed_data[['src', 'tgt']],\n",
    "    test_size= val_ratio,\n",
    "    random_state= 42,\n",
    "    shuffle= isShuffle\n",
    ")\n",
    "\n",
    "train_data, test_data = train_test_split(\n",
    "    train_data[['src', 'tgt']],\n",
    "    test_size= test_ratio,\n",
    "    random_state= 42,\n",
    "    shuffle= isShuffle\n",
    ")"
   ]
  },
  {
   "cell_type": "markdown",
   "metadata": {},
   "source": [
    "## **Xây dựng dataset trước**"
   ]
  },
  {
   "cell_type": "code",
   "execution_count": 281,
   "metadata": {},
   "outputs": [],
   "source": [
    "import torch\n",
    "from torch.utils.data import Dataset\n",
    "from torch.nn.utils.rnn import pad_sequence\n",
    "\n",
    "class TranslationDataset(Dataset):\n",
    "    def __init__(self, source_data, target_data):\n",
    "        \"\"\"\n",
    "        source_data: Danh sách các câu nguồn, mỗi câu là một danh sách các chỉ số (indices).\n",
    "        target_data: Danh sách các câu đích, mỗi câu là một danh sách các chỉ số (indices).\n",
    "        \"\"\"\n",
    "        self.source_data = source_data\n",
    "        self.target_data = target_data\n",
    "\n",
    "    def __len__(self):\n",
    "        # Trả về số lượng mẫu dữ liệu (số lượng cặp câu nguồn-đích)\n",
    "        return len(self.source_data)\n",
    "\n",
    "    def __getitem__(self, idx):\n",
    "        # Trả về cặp câu nguồn và đích tại vị trí idx\n",
    "        source_sentence = torch.tensor(self.source_data.iloc[idx], dtype=torch.long)\n",
    "        target_sentence = torch.tensor(self.target_data.iloc[idx], dtype=torch.long)\n",
    "        return source_sentence, target_sentence\n",
    "\n",
    "\n",
    "# Tạo DataLoader, sử dụng collate_fn để xử lý padding và drop cho các câu có độ dài không đồng đều\n",
    "def collate_batch(batch):\n",
    "    src_batch, tgt_batch = zip(*batch)\n",
    "    \n",
    "    # Padding cho các chuỗi nguồn và đích\n",
    "    src_batch = pad_sequence(src_batch, batch_first=True, padding_value= 1)\n",
    "    tgt_batch = pad_sequence(tgt_batch, batch_first=True, padding_value= 1)\n",
    "    \n",
    "    return src_batch, tgt_batch\n",
    "\n",
    "train_dataset = TranslationDataset(train_data['src'], train_data['tgt'])\n",
    "valid_dataset = TranslationDataset(val_data['src'], val_data['tgt'])\n",
    "test_dataset = TranslationDataset(test_data['src'], test_data['tgt'])"
   ]
  },
  {
   "cell_type": "code",
   "execution_count": 282,
   "metadata": {},
   "outputs": [],
   "source": [
    "train_batch_size = 32\n",
    "test_batch_size = 8\n",
    "\n",
    "train_loader = DataLoader(train_dataset, batch_size= train_batch_size, collate_fn= collate_batch)\n",
    "val_loader = DataLoader(valid_dataset, batch_size= test_batch_size, collate_fn= collate_batch)\n",
    "test_loader = DataLoader(test_dataset, batch_size= test_batch_size, collate_fn= collate_batch)"
   ]
  },
  {
   "cell_type": "code",
   "execution_count": 58,
   "metadata": {},
   "outputs": [],
   "source": []
  },
  {
   "cell_type": "markdown",
   "metadata": {},
   "source": [
    "# Xây dựng Model RNN Dịch máy"
   ]
  },
  {
   "cell_type": "code",
   "execution_count": 283,
   "metadata": {},
   "outputs": [],
   "source": [
    "import torch\n",
    "import torch.nn as nn\n",
    "import torch.nn.functional as F\n",
    "\n",
    "import math\n",
    "DEVICE = torch.device('cuda')"
   ]
  },
  {
   "cell_type": "markdown",
   "metadata": {},
   "source": [
    "**Positional Encode cho mô hình Tranformers cần xác định tính tuần tự của chữ cái**"
   ]
  },
  {
   "cell_type": "code",
   "execution_count": 284,
   "metadata": {},
   "outputs": [],
   "source": [
    "class PositionalEmbedding(nn.Module):\n",
    "    def __init__(self, embed_dim, seq_len= 500, dropout= 0.2):\n",
    "        super(PositionalEmbedding, self).__init__()\n",
    "        pos = torch.arange(0, seq_len).reshape(seq_len, 1)\n",
    "        denominator = torch.Tensor( 10000**(torch.arange(0, embed_dim, 2)) / embed_dim)\n",
    "        \n",
    "        pos_embedding = torch.zeros((seq_len, embed_dim if embed_dim%2== 0 else (embed_dim + 1)))\n",
    "        pos_embedding[:, 0::2] = torch.sin(pos*denominator)\n",
    "        pos_embedding[:, 1::2] = torch.cos(pos*denominator)\n",
    "\n",
    "        pos_embedding = pos_embedding[:, :embed_dim]\n",
    "        \n",
    "        self.dropout = nn.Dropout(dropout)\n",
    "        self.register_buffer('pos_embedding', pos_embedding)\n",
    "\n",
    "    def forward(self, token_embedding: torch.Tensor):\n",
    "        batch_size = token_embedding.size(0)\n",
    "        seq_len = token_embedding.size(1)\n",
    "        pos_embedding = self.pos_embedding[:seq_len, :].unsqueeze(0).expand(batch_size, -1, -1)\n",
    "\n",
    "        return self.dropout(pos_embedding + token_embedding)\n"
   ]
  },
  {
   "cell_type": "markdown",
   "metadata": {},
   "source": [
    "**Embedding Token cho mô hình**"
   ]
  },
  {
   "cell_type": "code",
   "execution_count": 285,
   "metadata": {},
   "outputs": [],
   "source": [
    "class TokenizedEmbedding(nn.Module):\n",
    "    def __init__(self, embed_dim, vocab_size):\n",
    "        super(TokenizedEmbedding, self).__init__()\n",
    "        self.embedding = nn.Embedding(num_embeddings= vocab_size, embedding_dim= embed_dim)\n",
    "        self.embed_dim = embed_dim\n",
    "    \n",
    "    def forward(self, tokens):\n",
    "        return self.embedding(tokens.long()) * math.sqrt(self.embed_dim) "
   ]
  },
  {
   "cell_type": "markdown",
   "metadata": {},
   "source": [
    "**Thực hiện Encode thông qua RNN**"
   ]
  },
  {
   "cell_type": "code",
   "execution_count": 286,
   "metadata": {},
   "outputs": [],
   "source": [
    "class RnnEncoder(nn.Module):\n",
    "    def __init__(self, src_vocab, embed_dim, hidden_dim, n_layers, dropout, DEVICE):\n",
    "        super(RnnEncoder, self).__init__()\n",
    "        \n",
    "        self.embedding = TokenizedEmbedding(\n",
    "            embed_dim= embed_dim,\n",
    "            vocab_size= len(src_vocab)\n",
    "            )\n",
    "        self.positional_embedding = PositionalEmbedding(\n",
    "            embed_dim= embed_dim\n",
    "        )\n",
    "        \n",
    "        self.rnn_layer = nn.GRU(\n",
    "            input_size= embed_dim, \n",
    "            hidden_size= hidden_dim,\n",
    "            num_layers= n_layers,\n",
    "            batch_first= True, \n",
    "            bidirectional= True\n",
    "            )\n",
    "        \n",
    "        self.norm = nn.LayerNorm(normalized_shape= hidden_dim)\n",
    "        self.dropout = nn.Dropout(dropout)\n",
    "        \n",
    "        self.fc = nn.Linear(\n",
    "            in_features= hidden_dim,\n",
    "            out_features= hidden_dim,\n",
    "            device= DEVICE\n",
    "            )\n",
    "        self.relu = nn.ReLU()\n",
    "    \n",
    "    def forward(self, x):\n",
    "        #x là câu đầu vào [batch_size, seq_len]\n",
    "        x = self.positional_embedding(self.embedding(x)) # [batch_size, seq_len, embed_dim]\n",
    "        x, hn = self.rnn_layer(x) # hn.shape = [n_layers*biderectional, batch_size, hidden_dim*D]\n",
    "        hn = self.norm(hn)\n",
    "        hn = self.relu(hn)\n",
    "        hn = self.dropout(hn)\n",
    "        hn = self.fc(hn)# hn.shape = [n_layers*bidirectional, batch_size, hidden_dim*D]\n",
    "        return x, hn"
   ]
  },
  {
   "cell_type": "markdown",
   "metadata": {},
   "source": [
    "**Thực hiện Decode thông quan RNN**"
   ]
  },
  {
   "cell_type": "code",
   "execution_count": 287,
   "metadata": {},
   "outputs": [],
   "source": [
    "class RnnDecoder(nn.Module):\n",
    "    def __init__(self, tgt_vocab, hidden_dim, n_layers, dropout, SOS_token, DEVICE):\n",
    "        super(RnnDecoder, self).__init__()\n",
    "        \n",
    "        self.embedding = TokenizedEmbedding(\n",
    "            embed_dim= hidden_dim*2,\n",
    "            vocab_size= len(tgt_vocab)\n",
    "            )\n",
    "        \n",
    "        self.rnn_layer = nn.GRU(\n",
    "            input_size= hidden_dim*2, \n",
    "            hidden_size= hidden_dim,\n",
    "            num_layers= n_layers,\n",
    "            batch_first= True,\n",
    "            bidirectional=True\n",
    "            )\n",
    "\n",
    "        self.fc = nn.Linear(\n",
    "            in_features= hidden_dim*2, \n",
    "            out_features= len(tgt_vocab)\n",
    "        )        \n",
    "\n",
    "        self.norm = nn.LayerNorm(normalized_shape= hidden_dim*2)\n",
    "        self.dropout = nn.Dropout(dropout)\n",
    "        self.device = DEVICE        \n",
    "        self.sos_token = SOS_token\n",
    "\n",
    "    def forward(self, encoder_outputs, context, target_tensor=None):\n",
    "        # encoder_outputs: đầu ra của encoder cho toàn bộ chuỗi đầu vào [batch_size, seq_len, hidden_dim*D]\n",
    "        # context: hidden state cuối cùng của encoder [n_layers*bidirectional, batch_size, hidden_dim*D]\n",
    "        # target_tensor: chuỗi target thực tế (sử dụng cho teacher forcing)\n",
    "        \n",
    "        max_len = target_tensor.size(1) # Lấy ra độ dài câu mục tiêu\n",
    "        batch_size = encoder_outputs.size(0)\n",
    "        # decoder_input.shape = [batch_size, 1, hidden_dim*D]\n",
    "        decoder_input = torch.empty((batch_size, 1), dtype= torch.long, device= self.device).fill_(self.sos_token)\n",
    "        decoder_hidden = context\n",
    "        decoder_outputs = []\n",
    "        decoder_outputs.append(self.embedding(decoder_input))\n",
    "        \n",
    "        for i in range(1, max_len):\n",
    "            # decoder_output.shape = [batch_size, seq_len= 1, hidden_dim*D]\n",
    "            decoder_output, decoder_hidden = self.forward_step(decoder_input, decoder_hidden)\n",
    "            decoder_outputs.append(decoder_output)\n",
    "\n",
    "            if target_tensor is not None:\n",
    "                decoder_input = target_tensor[:, i].unsqueeze(1)\n",
    "            else:\n",
    "                decoder_input = decoder_output.detach()\n",
    "\n",
    "        decoder_outputs = torch.cat(decoder_outputs, dim= 1)\n",
    "        decoder_outputs = self.norm(decoder_outputs)\n",
    "        decoder_outputs = self.dropout(decoder_outputs)\n",
    "        decoder_outputs = self.fc(decoder_outputs) # [batch_size, seq_len, max_len(của câu đầu ra)]\n",
    "\n",
    "        return decoder_outputs, decoder_hidden\n",
    "\n",
    "    def forward_step(self, input, hidden):\n",
    "        input = self.embedding(input)\n",
    "        #input = F.relu(input)\n",
    "        output, hidden = self.rnn_layer(input, hidden)\n",
    "        return output, hidden"
   ]
  },
  {
   "cell_type": "code",
   "execution_count": 288,
   "metadata": {},
   "outputs": [
    {
     "data": {
      "text/plain": [
       "torch.Size([32, 1, 1024])"
      ]
     },
     "execution_count": 288,
     "metadata": {},
     "output_type": "execute_result"
    }
   ],
   "source": [
    "e = embedding = TokenizedEmbedding(\n",
    "            embed_dim= 512*2,\n",
    "            vocab_size= len(tgt_vocab)\n",
    "            )\n",
    "e(torch.empty((32, 1), dtype= torch.long).fill_(2)).shape\n"
   ]
  },
  {
   "cell_type": "markdown",
   "metadata": {},
   "source": [
    "**Gộp thành model tổng**"
   ]
  },
  {
   "cell_type": "code",
   "execution_count": 289,
   "metadata": {},
   "outputs": [],
   "source": [
    "class RnnMachineTranslate(nn.Module):\n",
    "    def __init__(self, encoder, decoder):\n",
    "        super(RnnMachineTranslate, self).__init__()\n",
    "        self.encoder = encoder\n",
    "        self.decoder = decoder\n",
    "\n",
    "    def forward(self, x, y):\n",
    "        # x là 1 bacth các câu đầu vào\n",
    "        result_time_steps, context = self.encoder(x)\n",
    "        decoder_outputs, decoder_hidden = self.decoder(result_time_steps, context, y)\n",
    "\n",
    "        return decoder_outputs       "
   ]
  },
  {
   "cell_type": "markdown",
   "metadata": {},
   "source": [
    "# Xây dựng huấn luyện "
   ]
  },
  {
   "cell_type": "code",
   "execution_count": 290,
   "metadata": {},
   "outputs": [],
   "source": [
    "import time\n",
    "\n",
    "def evaluate(model, data_loader, criterion, device):\n",
    "    model.eval()\n",
    "    losses = []\n",
    "    with torch.no_grad():\n",
    "        for src_input, tgt_input in data_loader:\n",
    "            src_input, tgt_input = src_input.to(device), tgt_input.to(device)\n",
    "            pred_logits = model(src_input, tgt_input)\n",
    "\n",
    "            tgt_input = tgt_input.view(-1)\n",
    "            pred_logits = pred_logits.view(-1, pred_logits.size(2))\n",
    "            loss = criterion(pred_logits, tgt_input)\n",
    "            losses.append(loss.item())\n",
    "    \n",
    "    return sum(losses)/len(losses)\n",
    "\n",
    "\n",
    "def train_epoch(model, train_loader, criterion, optimizer, device):\n",
    "    model.train()\n",
    "    epoch_losses = []\n",
    "\n",
    "    for src_input, tgt_input in train_loader:\n",
    "        optimizer.zero_grad()\n",
    "        \n",
    "        src_input, tgt_input = src_input.to(device), tgt_input.to(device)\n",
    "        pred_logits = model(src_input, tgt_input)\n",
    "\n",
    "        tgt_input = tgt_input.view(-1)\n",
    "        pred_logits = pred_logits.view(-1, pred_logits.size(-1))\n",
    "        loss = criterion(pred_logits, tgt_input)\n",
    "        epoch_losses.append(loss.item())\n",
    "\n",
    "        loss.backward()\n",
    "        optimizer.step()\n",
    "        epoch_losses.append(loss.item())\n",
    "\n",
    "    return sum(epoch_losses)/len(epoch_losses)\n",
    "\n",
    "def fit(model, train_loader, val_loader, criterion, optimizer, epochs, device):\n",
    "    model.train()\n",
    "    train_losses, val_losses = [], []\n",
    "\n",
    "    for epoch in range(epochs):\n",
    "        start_time = time.time()\n",
    "        train_loss = train_epoch(model, train_loader, criterion, optimizer, device)\n",
    "        val_loss = evaluate(model, val_loader, criterion, device)\n",
    "\n",
    "        end_time= time.time()\n",
    "        train_losses.append(train_loss)\n",
    "        val_losses.append(val_loss)\n",
    "\n",
    "        print((f\"Epoch: {epoch+1}, Train loss: {train_loss:.3f}, Val loss: {val_loss :.3f}, \"f\"Epoch time = {(end_time-start_time):.3f}s\"))\n",
    "    \n",
    "    return train_losses, val_losses\n",
    "        "
   ]
  },
  {
   "cell_type": "code",
   "execution_count": null,
   "metadata": {},
   "outputs": [],
   "source": []
  },
  {
   "cell_type": "markdown",
   "metadata": {},
   "source": [
    "## Huấn luyện "
   ]
  },
  {
   "cell_type": "code",
   "execution_count": 291,
   "metadata": {},
   "outputs": [
    {
     "name": "stdout",
     "output_type": "stream",
     "text": [
      "Epoch: 1, Train loss: 4.571, Val loss: 3.913, Epoch time = 25.395s\n",
      "Epoch: 2, Train loss: 3.555, Val loss: 3.502, Epoch time = 25.410s\n",
      "Epoch: 3, Train loss: 3.065, Val loss: 3.242, Epoch time = 25.305s\n"
     ]
    }
   ],
   "source": [
    "embed_dim = 256\n",
    "hidden_dim = 512\n",
    "n_layers = 2\n",
    "UNK_IDX, PAD_IDX, SOS_IDX, EOS_IDX = 0, 1, 2 ,3\n",
    "\n",
    "encoder = RnnEncoder(src_vocab, embed_dim, hidden_dim, n_layers, 0.2, DEVICE).to(DEVICE)\n",
    "decoder = RnnDecoder(tgt_vocab, hidden_dim, n_layers, 0.2, 2, DEVICE).to(DEVICE)\n",
    "rnn_based_model = RnnMachineTranslate(encoder, decoder).to(DEVICE)\n",
    "\n",
    "criterion = nn.CrossEntropyLoss(ignore_index= PAD_IDX)\n",
    "optimizer = torch.optim.Adam(rnn_based_model.parameters(), lr= 1e-4, eps= 1e-9, weight_decay= 1e-6)\n",
    "epochs = 3\n",
    "\n",
    "train_losses, valid_losses = fit(rnn_based_model, train_loader, val_loader, criterion, optimizer, epochs, device=DEVICE)\n"
   ]
  },
  {
   "cell_type": "code",
   "execution_count": 292,
   "metadata": {},
   "outputs": [
    {
     "name": "stdout",
     "output_type": "stream",
     "text": [
      "Epoch: 1, Train loss: 2.694, Val loss: 3.049, Epoch time = 25.520s\n",
      "Epoch: 2, Train loss: 2.390, Val loss: 2.914, Epoch time = 25.281s\n",
      "Epoch: 3, Train loss: 2.134, Val loss: 2.811, Epoch time = 25.230s\n",
      "Epoch: 4, Train loss: 1.908, Val loss: 2.731, Epoch time = 25.645s\n",
      "Epoch: 5, Train loss: 1.703, Val loss: 2.667, Epoch time = 25.526s\n",
      "Epoch: 6, Train loss: 1.520, Val loss: 2.624, Epoch time = 25.166s\n",
      "Epoch: 7, Train loss: 1.351, Val loss: 2.606, Epoch time = 25.800s\n",
      "Epoch: 8, Train loss: 1.196, Val loss: 2.564, Epoch time = 25.119s\n",
      "Epoch: 9, Train loss: 1.063, Val loss: 2.539, Epoch time = 24.898s\n",
      "Epoch: 10, Train loss: 0.935, Val loss: 2.533, Epoch time = 25.140s\n",
      "Epoch: 11, Train loss: 0.825, Val loss: 2.534, Epoch time = 25.239s\n"
     ]
    },
    {
     "ename": "KeyboardInterrupt",
     "evalue": "",
     "output_type": "error",
     "traceback": [
      "\u001b[1;31m---------------------------------------------------------------------------\u001b[0m",
      "\u001b[1;31mKeyboardInterrupt\u001b[0m                         Traceback (most recent call last)",
      "Cell \u001b[1;32mIn[292], line 1\u001b[0m\n\u001b[1;32m----> 1\u001b[0m train_losses, valid_losses \u001b[38;5;241m=\u001b[39m \u001b[43mfit\u001b[49m\u001b[43m(\u001b[49m\u001b[43mrnn_based_model\u001b[49m\u001b[43m,\u001b[49m\u001b[43m \u001b[49m\u001b[43mtrain_loader\u001b[49m\u001b[43m,\u001b[49m\u001b[43m \u001b[49m\u001b[43mval_loader\u001b[49m\u001b[43m,\u001b[49m\u001b[43m \u001b[49m\u001b[43mcriterion\u001b[49m\u001b[43m,\u001b[49m\u001b[43m \u001b[49m\u001b[43moptimizer\u001b[49m\u001b[43m,\u001b[49m\u001b[43m \u001b[49m\u001b[38;5;241;43m20\u001b[39;49m\u001b[43m,\u001b[49m\u001b[43m \u001b[49m\u001b[43mdevice\u001b[49m\u001b[38;5;241;43m=\u001b[39;49m\u001b[43mDEVICE\u001b[49m\u001b[43m)\u001b[49m\n",
      "Cell \u001b[1;32mIn[290], line 46\u001b[0m, in \u001b[0;36mfit\u001b[1;34m(model, train_loader, val_loader, criterion, optimizer, epochs, device)\u001b[0m\n\u001b[0;32m     44\u001b[0m \u001b[38;5;28;01mfor\u001b[39;00m epoch \u001b[38;5;129;01min\u001b[39;00m \u001b[38;5;28mrange\u001b[39m(epochs):\n\u001b[0;32m     45\u001b[0m     start_time \u001b[38;5;241m=\u001b[39m time\u001b[38;5;241m.\u001b[39mtime()\n\u001b[1;32m---> 46\u001b[0m     train_loss \u001b[38;5;241m=\u001b[39m \u001b[43mtrain_epoch\u001b[49m\u001b[43m(\u001b[49m\u001b[43mmodel\u001b[49m\u001b[43m,\u001b[49m\u001b[43m \u001b[49m\u001b[43mtrain_loader\u001b[49m\u001b[43m,\u001b[49m\u001b[43m \u001b[49m\u001b[43mcriterion\u001b[49m\u001b[43m,\u001b[49m\u001b[43m \u001b[49m\u001b[43moptimizer\u001b[49m\u001b[43m,\u001b[49m\u001b[43m \u001b[49m\u001b[43mdevice\u001b[49m\u001b[43m)\u001b[49m\n\u001b[0;32m     47\u001b[0m     val_loss \u001b[38;5;241m=\u001b[39m evaluate(model, val_loader, criterion, device)\n\u001b[0;32m     49\u001b[0m     end_time\u001b[38;5;241m=\u001b[39m time\u001b[38;5;241m.\u001b[39mtime()\n",
      "Cell \u001b[1;32mIn[290], line 32\u001b[0m, in \u001b[0;36mtrain_epoch\u001b[1;34m(model, train_loader, criterion, optimizer, device)\u001b[0m\n\u001b[0;32m     30\u001b[0m pred_logits \u001b[38;5;241m=\u001b[39m pred_logits\u001b[38;5;241m.\u001b[39mview(\u001b[38;5;241m-\u001b[39m\u001b[38;5;241m1\u001b[39m, pred_logits\u001b[38;5;241m.\u001b[39msize(\u001b[38;5;241m-\u001b[39m\u001b[38;5;241m1\u001b[39m))\n\u001b[0;32m     31\u001b[0m loss \u001b[38;5;241m=\u001b[39m criterion(pred_logits, tgt_input)\n\u001b[1;32m---> 32\u001b[0m epoch_losses\u001b[38;5;241m.\u001b[39mappend(\u001b[43mloss\u001b[49m\u001b[38;5;241;43m.\u001b[39;49m\u001b[43mitem\u001b[49m\u001b[43m(\u001b[49m\u001b[43m)\u001b[49m)\n\u001b[0;32m     34\u001b[0m loss\u001b[38;5;241m.\u001b[39mbackward()\n\u001b[0;32m     35\u001b[0m optimizer\u001b[38;5;241m.\u001b[39mstep()\n",
      "\u001b[1;31mKeyboardInterrupt\u001b[0m: "
     ]
    }
   ],
   "source": [
    "train_losses, valid_losses = fit(rnn_based_model, train_loader, val_loader, criterion, optimizer, 20, device=DEVICE)"
   ]
  },
  {
   "cell_type": "code",
   "execution_count": 296,
   "metadata": {},
   "outputs": [],
   "source": [
    "val_loss = evaluate(rnn_based_model, test_loader, criterion, DEVICE)"
   ]
  },
  {
   "cell_type": "code",
   "execution_count": 297,
   "metadata": {},
   "outputs": [
    {
     "data": {
      "text/plain": [
       "2.6066572959140197"
      ]
     },
     "execution_count": 297,
     "metadata": {},
     "output_type": "execute_result"
    }
   ],
   "source": [
    "val_loss"
   ]
  },
  {
   "cell_type": "code",
   "execution_count": 301,
   "metadata": {},
   "outputs": [
    {
     "data": {
      "image/png": "[encoded data removed]",
      "text/plain": [
       "<Figure size 1000x600 with 1 Axes>"
      ]
     },
     "metadata": {},
     "output_type": "display_data"
    }
   ],
   "source": [
    "import matplotlib.pyplot as plt\n",
    "# Plot result\n",
    "def plot_result(num_epochs, train_losses, eval_losses):\n",
    "    epochs = list(range(num_epochs))\n",
    "    fig, axs = plt.subplots(nrows=1, ncols=1, figsize=(10, 6))\n",
    "    axs.plot(epochs, train_losses, label=\"Training\")\n",
    "    axs.plot(epochs, eval_losses, label=\"Evaluation\")\n",
    "    axs.set_xlabel(\"Epochs\")\n",
    "    axs.set_ylabel(\"Loss\")\n",
    "    plt.legend()\n",
    "\n",
    "plot_result(3, train_losses, valid_losses)"
   ]
  },
  {
   "cell_type": "code",
   "execution_count": 26,
   "metadata": {},
   "outputs": [],
   "source": [
    "for src_batch, tgt_batch in train_loader:\n",
    "    src = src_batch\n",
    "    tgt = tgt_batch\n",
    "    break\n",
    " # Thử in ra một batch và dừng lại"
   ]
  },
  {
   "cell_type": "code",
   "execution_count": 27,
   "metadata": {},
   "outputs": [
    {
     "data": {
      "text/plain": [
       "tensor([[  2,  37, 178,  52,  27,   6, 148,  31, 108,  35, 314, 143,   3,   1,\n",
       "           1,   1],\n",
       "        [  2,  15,  23,   5,  30,  28, 435,   3,   1,   1,   1,   1,   1,   1,\n",
       "           1,   1],\n",
       "        [  2,   6, 415, 124,  21, 189, 414,   3,   1,   1,   1,   1,   1,   1,\n",
       "           1,   1],\n",
       "        [  2,  62,  82, 623,  31, 328, 131, 723, 174,   3,   1,   1,   1,   1,\n",
       "           1,   1],\n",
       "        [  2,  71,  69,   7,  29,  10,   4,  34,  19,  73,  35,   6,  11,   3,\n",
       "           1,   1],\n",
       "        [  2, 251, 126,   4,   9, 122, 473, 507,  67, 479, 486,   3,   1,   1,\n",
       "           1,   1],\n",
       "        [  2,   7,   8,  29, 185, 108,  16,   4,  74,  76,  42,   5,  11,   3,\n",
       "           1,   1],\n",
       "        [  2,  53, 655,   9,  56, 561, 391,   3,   1,   1,   1,   1,   1,   1,\n",
       "           1,   1],\n",
       "        [  2,   4,   9, 182,   6,   7, 506,  16,   4,   3,   1,   1,   1,   1,\n",
       "           1,   1],\n",
       "        [  2,   4, 148,  87,  63,  45,  30,  17,   3,   1,   1,   1,   1,   1,\n",
       "           1,   1],\n",
       "        [  2,   5,  57, 219, 469,  37,  38,  13, 754,  70,  47,   3,   1,   1,\n",
       "           1,   1],\n",
       "        [  2,  15, 279, 201,  12, 533, 304, 358, 287,  11,   3,   1,   1,   1,\n",
       "           1,   1],\n",
       "        [  2,  91, 128, 193,   4,   3,   1,   1,   1,   1,   1,   1,   1,   1,\n",
       "           1,   1],\n",
       "        [  2,   9, 144,  47, 198,   5, 369,  34,   3,   1,   1,   1,   1,   1,\n",
       "           1,   1],\n",
       "        [  2,  15,  14,   9, 477, 480,  17,  82, 200,   3,   1,   1,   1,   1,\n",
       "           1,   1],\n",
       "        [  2,  26,   4, 136,  36,  13,   3,   1,   1,   1,   1,   1,   1,   1,\n",
       "           1,   1],\n",
       "        [  2,   4, 113,   0, 706,  44,  45, 284, 375,   0,   3,   1,   1,   1,\n",
       "           1,   1],\n",
       "        [  2,   4,  18, 257,   3,   1,   1,   1,   1,   1,   1,   1,   1,   1,\n",
       "           1,   1],\n",
       "        [  2,   4,  18, 257,   3,   1,   1,   1,   1,   1,   1,   1,   1,   1,\n",
       "           1,   1],\n",
       "        [  2,   4,   9, 129,  88,  67,  66,  15,  49, 187, 146,  12, 258, 175,\n",
       "           3,   1],\n",
       "        [  2,  85, 225,  48,   5,  30,  10, 580, 138,  80, 287,   3,   1,   1,\n",
       "           1,   1],\n",
       "        [  2,  22,   4, 163, 380,  88, 173,   3,   1,   1,   1,   1,   1,   1,\n",
       "           1,   1],\n",
       "        [  2,  44, 146, 401,  16, 192,  27, 264,   8, 210,  42, 534, 579, 680,\n",
       "         541,   3],\n",
       "        [  2,   5,  30, 115, 593,   0, 128,   8, 903,   3,   1,   1,   1,   1,\n",
       "           1,   1],\n",
       "        [  2, 272, 135,  42,   3,   1,   1,   1,   1,   1,   1,   1,   1,   1,\n",
       "           1,   1],\n",
       "        [  2, 667,   0,   0,  37, 374,  28,  23,   0, 675, 667,   3,   1,   1,\n",
       "           1,   1],\n",
       "        [  2,   6,   9,   5, 214, 296,  40,   3,   1,   1,   1,   1,   1,   1,\n",
       "           1,   1],\n",
       "        [  2,   4,  34,  17,   7,  35,   6,   3,   1,   1,   1,   1,   1,   1,\n",
       "           1,   1],\n",
       "        [  2,   4,   5,   8, 201, 111, 188,  42, 100,   3,   1,   1,   1,   1,\n",
       "           1,   1],\n",
       "        [  2,  15,  23, 608,  74,   5,  29,  25,  54, 252, 177,  33,   3,   1,\n",
       "           1,   1],\n",
       "        [  2,   6,   9,  49,  61, 168,   0, 127,  40, 148,   5, 182,  61,   3,\n",
       "           1,   1],\n",
       "        [  2,   4,   9,  34, 138,   0,   3,   1,   1,   1,   1,   1,   1,   1,\n",
       "           1,   1]])"
      ]
     },
     "execution_count": 27,
     "metadata": {},
     "output_type": "execute_result"
    }
   ],
   "source": [
    "tgt"
   ]
  },
  {
   "cell_type": "code",
   "execution_count": 28,
   "metadata": {},
   "outputs": [
    {
     "name": "stdout",
     "output_type": "stream",
     "text": [
      "tensor([  2,   6, 178,  52,  27,   6, 148,  31, 108,  35, 314, 143,   3,   3,\n",
      "          3,   3], device='cuda:0')\n",
      "tensor([  2,  15,  23,   5,  30,  10, 435,   3,   3,   3,   3,   3,   3,  17,\n",
      "         17,  17], device='cuda:0')\n",
      "tensor([  2,   6, 415, 124,  21, 189, 414,   3,   3,   3,   3,  39,  39,  39,\n",
      "         10,  10], device='cuda:0')\n",
      "tensor([  2,  62,  82, 623,  31, 328, 131, 723, 174,   3,   3,   3,   3,   3,\n",
      "          3,   3], device='cuda:0')\n",
      "tensor([ 2, 71, 69,  7, 29, 10,  4, 34, 19, 73, 35,  6, 11,  3,  3,  3],\n",
      "       device='cuda:0')\n",
      "tensor([  2, 251, 126,   4,   9, 122, 473, 440,  67, 479, 486,   3,   3,   3,\n",
      "          3, 179], device='cuda:0')\n",
      "tensor([  2,   7,   8,  29, 185, 108,  16,   4,  74,  76,  42,   5,  11,   3,\n",
      "          3,   3], device='cuda:0')\n",
      "tensor([  2,  53, 655,   9,  56, 561, 391,   3,   3,   3,   3,   3,   3,   3,\n",
      "          3,   3], device='cuda:0')\n"
     ]
    }
   ],
   "source": [
    "for i in range(8):\n",
    "    print(torch.argmax(F.log_softmax(rnn_based_model(src.to(DEVICE), tgt.to(DEVICE)), dim=-1), dim= -1)[i, :])"
   ]
  },
  {
   "cell_type": "code",
   "execution_count": 29,
   "metadata": {},
   "outputs": [
    {
     "data": {
      "text/plain": [
       "'người'"
      ]
     },
     "execution_count": 29,
     "metadata": {},
     "output_type": "execute_result"
    }
   ],
   "source": [
    "tgt_vocab.get_itos()[28]"
   ]
  },
  {
   "cell_type": "markdown",
   "metadata": {},
   "source": [
    "# Xây dựng chuẩn đánh giá tựa BLEU"
   ]
  },
  {
   "cell_type": "code",
   "execution_count": 30,
   "metadata": {},
   "outputs": [
    {
     "name": "stdout",
     "output_type": "stream",
     "text": [
      "Loss: 0.0\n"
     ]
    }
   ],
   "source": [
    "import torch\n",
    "import torch.nn as nn\n",
    "from collections import Counter\n",
    "\n",
    "class BLEUInspiredLoss(nn.Module):\n",
    "    def __init__(self, pad_index, n_gram=4, epsilon=1e-10):\n",
    "        super(BLEUInspiredLoss, self).__init__()\n",
    "        self.criterion = nn.CrossEntropyLoss(ignore_index=pad_index, reduction='none')\n",
    "        self.pad_index = pad_index\n",
    "        self.n_gram = n_gram\n",
    "        self.epsilon = epsilon\n",
    "\n",
    "    def forward(self, outputs, targets):\n",
    "        \"\"\"\n",
    "        outputs: Tensor hình dạng [batch_size, seq_len, vocab_size]\n",
    "        targets: Tensor hình dạng [batch_size, seq_len]\n",
    "        \"\"\"\n",
    "        batch_size, seq_len, vocab_size = outputs.shape\n",
    "        \n",
    "        # Tính CrossEntropy loss\n",
    "        outputs = outputs.contiguous().view(-1, vocab_size)\n",
    "        targets = targets.contiguous().view(-1)\n",
    "        ce_loss = self.criterion(outputs, targets).view(batch_size, -1)\n",
    "        \n",
    "        # Lấy dự đoán có xác suất cao nhất\n",
    "        _, preds = torch.max(outputs.view(batch_size, seq_len, vocab_size), dim=2)\n",
    "        \n",
    "        # Tính điểm BLEU cho mỗi cặp dự đoán-target\n",
    "        bleu_scores = torch.zeros(batch_size, device=outputs.device)\n",
    "        for i in range(batch_size):\n",
    "            bleu_scores[i] = self.calculate_bleu_score(preds[i], targets.view(batch_size, -1)[i])\n",
    "        \n",
    "        # Kết hợp CrossEntropy loss với điểm BLEU\n",
    "        combined_loss = ce_loss.mean(dim=1) * (1 - bleu_scores)\n",
    "        \n",
    "        return bleu_scores.mean()\n",
    "\n",
    "    def calculate_bleu_score(self, pred, target):\n",
    "        preds, targets = [], []\n",
    "        for i in range(len(pred)):\n",
    "            if pred[i]!= self.pad_index:\n",
    "                preds.append(pred[i])\n",
    "        for i in range(len(target)):\n",
    "            if target[i]!= self.pad_index:\n",
    "                targets.append(target[i])\n",
    "                \n",
    "        precision_scores = []\n",
    "        for n in range(1, self.n_gram + 1):\n",
    "            pred_ngrams = self.get_ngrams(preds, n)\n",
    "            target_ngrams = self.get_ngrams(targets, n)\n",
    "            \n",
    "            matches = sum((pred_ngrams & target_ngrams).values())\n",
    "            total = sum(pred_ngrams.values()) or 1\n",
    "            precision_scores.append(matches / total)\n",
    "        \n",
    "        geo_mean = torch.exp(torch.tensor(precision_scores).log().mean())\n",
    "        \n",
    "        bp = min(1, torch.exp(torch.tensor(1 - len(target) / (len(pred) + self.epsilon))))\n",
    "        return bp * geo_mean\n",
    "\n",
    "    @staticmethod\n",
    "    def get_ngrams(sequence, n):\n",
    "        return Counter(tuple(sequence[i:i+n]) for i in range(len(sequence) - n + 1))\n",
    "\n",
    "# Sử dụng hàm loss\n",
    "pad_index = 0  # Giả sử 0 là chỉ số padding\n",
    "loss_fn = BLEUInspiredLoss(pad_index)\n",
    "\n",
    "# Giả lập dữ liệu đầu ra từ mô hình và targets\n",
    "batch_size, seq_len, vocab_size = 32, 20, 10000\n",
    "outputs = torch.randn(batch_size, seq_len, vocab_size)\n",
    "targets = torch.randint(1, vocab_size, (batch_size, seq_len))  # Bắt đầu từ 1 để tránh pad_index\n",
    "\n",
    "# Tính toán loss\n",
    "loss = loss_fn(outputs, targets)\n",
    "print(f\"Loss: {loss.item()}\")"
   ]
  },
  {
   "cell_type": "code",
   "execution_count": null,
   "metadata": {},
   "outputs": [],
   "source": []
  },
  {
   "cell_type": "code",
   "execution_count": 33,
   "metadata": {},
   "outputs": [],
   "source": []
  },
  {
   "cell_type": "code",
   "execution_count": null,
   "metadata": {},
   "outputs": [],
   "source": []
  }
 ],
 "metadata": {
  "kernelspec": {
   "display_name": "base",
   "language": "python",
   "name": "python3"
  },
  "language_info": {
   "codemirror_mode": {
    "name": "ipython",
    "version": 3
   },
   "file_extension": ".py",
   "mimetype": "text/x-python",
   "name": "python",
   "nbconvert_exporter": "python",
   "pygments_lexer": "ipython3",
   "version": "3.12.4"
  }
 },
 "nbformat": 4,
 "nbformat_minor": 2
}
