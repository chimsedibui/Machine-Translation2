{
 "cells": [
  {
   "cell_type": "markdown",
   "metadata": {},
   "source": [
    "# Xây dựng huấn luyện "
   ]
  },
  {
   "cell_type": "code",
   "execution_count": 2,
   "metadata": {},
   "outputs": [],
   "source": [
    "import time\n",
    "import torch\n",
    "\n",
    "def evaluate(model, data_loader, criterion, device):\n",
    "    model.eval()\n",
    "    losses = []\n",
    "    with torch.no_grad():\n",
    "        for src_input, tgt_input in data_loader:\n",
    "            src_input, tgt_input = src_input.to(device), tgt_input.to(device)\n",
    "            pred_logits = model(src_input, tgt_input)\n",
    "\n",
    "            tgt_input = tgt_input.view(-1)\n",
    "            pred_logits = pred_logits.view(-1, pred_logits.size(2))\n",
    "            loss = criterion(pred_logits, tgt_input)\n",
    "            losses.append(loss.item())\n",
    "    \n",
    "    return sum(losses)/len(losses)\n",
    "\n",
    "\n",
    "def train_epoch(model, train_loader, criterion, optimizer, device):\n",
    "    model.train()\n",
    "    epoch_losses = []\n",
    "\n",
    "    for src_input, tgt_input in train_loader:\n",
    "        optimizer.zero_grad()\n",
    "        \n",
    "        src_input, tgt_input = src_input.to(device), tgt_input.to(device)\n",
    "        pred_logits = model(src_input, tgt_input)\n",
    "\n",
    "        tgt_input = tgt_input.view(-1)\n",
    "        pred_logits = pred_logits.view(-1, pred_logits.size(-1))\n",
    "        loss = criterion(pred_logits, tgt_input)\n",
    "        epoch_losses.append(loss.item())\n",
    "\n",
    "        loss.backward()\n",
    "        optimizer.step()\n",
    "        epoch_losses.append(loss.item())\n",
    "\n",
    "    return sum(epoch_losses)/len(epoch_losses)\n",
    "\n",
    "def fit(model, train_loader, val_loader, criterion, optimizer, epochs, device):\n",
    "    model.train()\n",
    "    train_losses, val_losses = [], []\n",
    "\n",
    "    for epoch in range(epochs):\n",
    "        start_time = time.time()\n",
    "        train_loss = train_epoch(model, train_loader, criterion, optimizer, device)\n",
    "        val_loss = evaluate(model, val_loader, criterion, device)\n",
    "\n",
    "        end_time= time.time()\n",
    "        train_losses.append(train_loss)\n",
    "        val_losses.append(val_loss)\n",
    "\n",
    "        print((f\"Epoch: {epoch+1}, Train loss: {train_loss:.3f}, Val loss: {val_loss :.3f}, \"f\"Epoch time = {(end_time-start_time):.3f}s\"))\n",
    "    \n",
    "    return train_losses, val_losses\n",
    "        "
   ]
  },
  {
   "cell_type": "markdown",
   "metadata": {},
   "source": [
    "# Huấn luyện Mô hình RNN cơ bản"
   ]
  },
  {
   "cell_type": "code",
   "execution_count": 12,
   "metadata": {},
   "outputs": [
    {
     "name": "stdout",
     "output_type": "stream",
     "text": [
      "Epoch: 1, Train loss: 4.384, Val loss: 3.755, Epoch time = 39.755s\n"
     ]
    }
   ],
   "source": [
    "import torch.nn as nn\n",
    "import import_ipynb\n",
    "from preprocessing import train_loader, val_loader, test_loader, src_vocab, tgt_vocab\n",
    "from rnn_based_model import RnnDecoder, RnnEncoder, RnnMachineTranslate\n",
    "\n",
    "embed_dim = 512\n",
    "hidden_dim = 1024\n",
    "n_layers = 2\n",
    "UNK_IDX, PAD_IDX, SOS_IDX, EOS_IDX = 0, 1, 2 ,3\n",
    "DEVICE = torch.device(\n",
    "    'cuda' if torch.cuda.is_available() \n",
    "    else 'cpu'\n",
    "    )\n",
    "\n",
    "encoder = RnnEncoder(src_vocab, embed_dim, hidden_dim, n_layers, 0.2, DEVICE).to(DEVICE)\n",
    "decoder = RnnDecoder(tgt_vocab, hidden_dim, n_layers, 0.2, 2, DEVICE).to(DEVICE)\n",
    "rnn_based_model = RnnMachineTranslate(encoder, decoder).to(DEVICE)\n",
    "\n",
    "criterion = nn.CrossEntropyLoss(ignore_index= PAD_IDX)\n",
    "optimizer = torch.optim.Adam(rnn_based_model.parameters(), lr= 1e-4, eps= 1e-9)\n",
    "epochs = 1\n",
    "\n",
    "train_losses, valid_losses = fit(rnn_based_model, train_loader, val_loader, criterion, optimizer, epochs, device=DEVICE)\n"
   ]
  },
  {
   "cell_type": "code",
   "execution_count": null,
   "metadata": {},
   "outputs": [],
   "source": []
  },
  {
   "cell_type": "code",
   "execution_count": null,
   "metadata": {},
   "outputs": [],
   "source": []
  },
  {
   "cell_type": "code",
   "execution_count": null,
   "metadata": {},
   "outputs": [],
   "source": []
  },
  {
   "cell_type": "code",
   "execution_count": null,
   "metadata": {},
   "outputs": [],
   "source": []
  },
  {
   "cell_type": "code",
   "execution_count": null,
   "metadata": {},
   "outputs": [],
   "source": []
  }
 ],
 "metadata": {
  "kernelspec": {
   "display_name": "base",
   "language": "python",
   "name": "python3"
  },
  "language_info": {
   "codemirror_mode": {
    "name": "ipython",
    "version": 3
   },
   "file_extension": ".py",
   "mimetype": "text/x-python",
   "name": "python",
   "nbconvert_exporter": "python",
   "pygments_lexer": "ipython3",
   "version": "3.12.4"
  }
 },
 "nbformat": 4,
 "nbformat_minor": 2
}
